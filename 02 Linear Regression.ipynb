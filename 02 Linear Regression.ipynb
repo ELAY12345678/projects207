{
 "cells": [
  {
   "cell_type": "markdown",
   "metadata": {
    "id": "rHLcriKWLRe4"
   },
   "source": [
    "# Assignement 2"
   ]
  },
  {
   "cell_type": "markdown",
   "metadata": {},
   "source": [
    "### <span style=\"color:chocolate\"> Submission requirements </span>\n",
    "\n",
    "Your homework will not be graded if your notebook doesn't include output. In other words, <span style=\"color:red\"> make sure to rerun your notebook before submitting to Gradescope </span> (Note: if you are using Google Colab: go to Edit > Notebook Settings  and uncheck Omit code cell output when saving this notebook, otherwise the output is not printed).\n",
    "\n",
    "Additional points may be deducted if these requirements are not met:\n",
    "\n",
    "    \n",
    "* Comment your code;\n",
    "* Each graph should have a title, labels for each axis, and (if needed) a legend. Each graph should be understandable on its own;\n",
    "* Try and minimize the use of the global namespace (meaning, keep things inside functions).\n",
    "---"
   ]
  },
  {
   "cell_type": "markdown",
   "metadata": {},
   "source": [
    "### Import libraries"
   ]
  },
  {
   "cell_type": "code",
   "execution_count": 2,
   "metadata": {
    "id": "7X58hOMTUH-w"
   },
   "outputs": [],
   "source": [
    "import numpy as np\n",
    "from sklearn.model_selection import train_test_split\n",
    "from sklearn.metrics import mean_squared_error\n",
    "import matplotlib.pyplot as plt"
   ]
  },
  {
   "cell_type": "markdown",
   "metadata": {},
   "source": [
    "### Define functions"
   ]
  },
  {
   "cell_type": "code",
   "execution_count": 3,
   "metadata": {},
   "outputs": [],
   "source": [
    "def create_1d_data(num_examples, w, b, bound):\n",
    "  \"\"\"Create X, Y data with a linear relationship with added noise.\n",
    "\n",
    "  Args:\n",
    "    num_examples: number of examples to generate\n",
    "    w: desired slope\n",
    "    b: desired intercept\n",
    "    bound: lower and upper boundary of the data interval\n",
    "\n",
    "  Returns:\n",
    "    X and Y with shape (num_examples)\n",
    "  \"\"\"\n",
    "  np.random.seed(4)  # consistent random number generation\n",
    "  X = np.arange(num_examples)\n",
    "  deltas = np.random.uniform(low=-bound, high=bound, size=X.shape) # added noise\n",
    "  Y = b + deltas + w * X\n",
    "\n",
    "  return X, Y"
   ]
  },
  {
   "cell_type": "markdown",
   "metadata": {},
   "source": [
    "---\n",
    "### Step 1: Data ingestion"
   ]
  },
  {
   "cell_type": "markdown",
   "metadata": {},
   "source": [
    "Let's start by creating some artificial data using the <span style=\"color:chocolate\">create_1d_data()</span> function defined at the top of the notebook."
   ]
  },
  {
   "cell_type": "code",
   "execution_count": 4,
   "metadata": {
    "id": "6qJg0IiYVJ8U"
   },
   "outputs": [
    {
     "name": "stdout",
     "output_type": "stream",
     "text": [
      "Printing shape of X: (70,)\n",
      "Printing first 10 elements in X: [0 1 2 3 4 5 6 7 8 9]\n",
      "\n",
      "Printing shape of Y: (70,)\n",
      "Printing first 10 elements in Y: [ 1.93405968  3.0944645   5.94536872  7.42963199  9.39545765 10.43217899\n",
      " 13.95254891 14.01246051 16.50596472 18.86958306]\n"
     ]
    }
   ],
   "source": [
    "# Define parameters\n",
    "num_examples = 70\n",
    "w = 2\n",
    "b = 1\n",
    "bound = 1\n",
    "\n",
    "# Create data\n",
    "X, Y = create_1d_data(num_examples, w, b, bound)\n",
    "\n",
    "# Print shapes\n",
    "print('Printing shape of X:', X.shape)\n",
    "print('Printing first 10 elements in X:', X[:10])\n",
    "print('\\nPrinting shape of Y:', Y.shape)\n",
    "print('Printing first 10 elements in Y:', Y[:10])"
   ]
  },
  {
   "cell_type": "markdown",
   "metadata": {
    "id": "8NXo1n9j1LMT"
   },
   "source": [
    "---\n",
    "### Step 2: Data Preprocessing"
   ]
  },
  {
   "cell_type": "markdown",
   "metadata": {},
   "source": [
    "Our objectives here involve adding one more feature to X and creating data partitions."
   ]
  },
  {
   "cell_type": "markdown",
   "metadata": {},
   "source": [
    "### <span style=\"color:chocolate\">Exercise 1:</span> Adding features (10 points)"
   ]
  },
  {
   "cell_type": "markdown",
   "metadata": {},
   "source": [
    "1. Add a column of $1s$ to $X$ (this will serve as an intercept or \"bias\" in our modeling task later on). Note: do not create a new array, just concatenate with the current values;\n",
    "2. Print the shape of the array."
   ]
  },
  {
   "cell_type": "code",
   "execution_count": 5,
   "metadata": {},
   "outputs": [
    {
     "name": "stdout",
     "output_type": "stream",
     "text": [
      "(70, 2)\n"
     ]
    }
   ],
   "source": [
    "# YOUR CODE HERE\n",
    "\n",
    "ones_column = np.ones((X.shape[0],1))\n",
    "X_reshaped = X.reshape(-1,1)\n",
    "X_with_ones = np.concatenate((ones_column,X_reshaped), axis=1)\n",
    "\n",
    "print(X_with_ones.shape)"
   ]
  },
  {
   "cell_type": "markdown",
   "metadata": {},
   "source": [
    "### <span style=\"color:chocolate\">Exercise 2:</span> Data splits (10 points)"
   ]
  },
  {
   "cell_type": "markdown",
   "metadata": {},
   "source": [
    "Using the <span style=\"color:chocolate\">train_test_split()</span> method available in scikit-learn:\n",
    "1. Split the (X,Y) data into training and test paritions by setting test_size=0.2 and random_state=1234. All the other arguments of the method are set to default values. Name the resulting arrays X_train, X_test, Y_train, Y_test;\n",
    "2. Print the shape of each array."
   ]
  },
  {
   "cell_type": "code",
   "execution_count": 6,
   "metadata": {},
   "outputs": [
    {
     "name": "stdout",
     "output_type": "stream",
     "text": [
      "(56, 2)\n",
      "(14, 2)\n",
      "(56,)\n",
      "(14,)\n"
     ]
    }
   ],
   "source": [
    "# YOUR CODE HERE\n",
    "\n",
    "X_train, X_test, Y_train, Y_test = train_test_split(X_with_ones, Y, test_size=0.2, random_state=1234)\n",
    "print(X_train.shape)\n",
    "print(X_test.shape)\n",
    "print(Y_train.shape)\n",
    "print(Y_test.shape)"
   ]
  },
  {
   "cell_type": "markdown",
   "metadata": {},
   "source": [
    "---\n",
    "### Step 3: Exploratory data analysis (EDA)"
   ]
  },
  {
   "cell_type": "markdown",
   "metadata": {},
   "source": [
    "### <span style=\"color:chocolate\">Exercise 3:</span> Plots (10 points)"
   ]
  },
  {
   "cell_type": "markdown",
   "metadata": {},
   "source": [
    "Create a side-by-side histogram for the values in Y_train and X_train. Make sure to include axes name and titles for each subplot."
   ]
  },
  {
   "cell_type": "code",
   "execution_count": 7,
   "metadata": {},
   "outputs": [
    {
     "data": {
      "image/png": "[encoded data removed]",
      "text/plain": [
       "<Figure size 1200x400 with 2 Axes>"
      ]
     },
     "metadata": {},
     "output_type": "display_data"
    }
   ],
   "source": [
    "# YOUR CODE HERE\n",
    "\n",
    "# Y histogram with subplot for side-by-side\n",
    "plt.figure(figsize=(12,4))\n",
    "plt.subplot(1,2,1)\n",
    "plt.hist(Y_train)\n",
    "plt.title('Histogram of Y_train')\n",
    "plt.xlabel('Y_train values')\n",
    "plt.ylabel('Frequency')\n",
    "\n",
    "# X histogram\n",
    "plt.subplot(1,2,2)\n",
    "plt.hist(X_train[:,1])\n",
    "plt.title('Histogram of X_train')\n",
    "plt.xlabel('X_train values')\n",
    "plt.ylabel('Frequency')\n",
    "\n",
    "plt.tight_layout()\n",
    "plt.show()"
   ]
  },
  {
   "cell_type": "markdown",
   "metadata": {},
   "source": [
    "---\n",
    "### Step 4: Modeling"
   ]
  },
  {
   "cell_type": "markdown",
   "metadata": {},
   "source": [
    "Let's start by considering the two models proposed in Assignment 1:\n",
    "1. $M_1(x) = 5+x$ \n",
    "2. $M_2(x) = 1+2x$"
   ]
  },
  {
   "cell_type": "markdown",
   "metadata": {},
   "source": [
    "### <span style=\"color:chocolate\">Exercise 4:</span> Practice with Parameters (10 points)"
   ]
  },
  {
   "cell_type": "markdown",
   "metadata": {},
   "source": [
    "Perform the following computations:\n",
    "\n",
    "1. Use matrix multiplication (np.dot) to create $M_1$ and $M_2$ (as previously defined) to produce vectors of predictions using the X_train data. Call these predictions M1_hat_train, M2_hat_train. Hint: the \"learned\" parameters are alredy provided to you;\n",
    "3. Print the shapes of the predictions to verify that they match the shape of Y_train."
   ]
  },
  {
   "cell_type": "code",
   "execution_count": 8,
   "metadata": {
    "id": "aBEZ_QOX6qOi"
   },
   "outputs": [
    {
     "name": "stdout",
     "output_type": "stream",
     "text": [
      "(56,)\n",
      "(56,)\n",
      "(56,)\n",
      "(56,)\n"
     ]
    }
   ],
   "source": [
    "# YOUR CODE HERE\n",
    "\n",
    "new_train_M1 = np.array([5,1])\n",
    "M1_hat_train = np.dot(X_train,new_train_M1)\n",
    "print(M1_hat_train.shape)\n",
    "print(Y_train.shape)\n",
    "\n",
    "new_train_M2 = np.array([1,2])\n",
    "M2_hat_train = np.dot(X_train,new_train_M2)\n",
    "print(M2_hat_train.shape)\n",
    "print(Y_train.shape)"
   ]
  },
  {
   "cell_type": "markdown",
   "metadata": {},
   "source": [
    "### <span style=\"color:chocolate\">Exercise 5:</span> Learn parameters with Gradient Descent (20 points)"
   ]
  },
  {
   "cell_type": "markdown",
   "metadata": {
    "id": "QaXYiTm9ftRf"
   },
   "source": [
    "1. Fill in the <span style=\"color:green\">NotImplemented</span> parts of the <span style=\"color:chocolate\">gradient_descent()</span> function below. Hint: refer to ``02 Linear Regression_helper.ipynb file``;\n",
    "\n",
    "2. Run this function with our artificial (X_train, Y_train) data . Set learning_rate = .0002 and num_epochs = 5. Print out the weights and loss after each epoch. \n",
    "\n",
    "3. Generate a plot with the loss values on the y-axis and the epoch number on the x-axis for visualization. Make sure to include axes name and title."
   ]
  },
  {
   "cell_type": "code",
   "execution_count": 9,
   "metadata": {},
   "outputs": [
    {
     "name": "stdout",
     "output_type": "stream",
     "text": [
      "0\n",
      "1\n",
      "2\n",
      "3\n",
      "4\n"
     ]
    }
   ],
   "source": [
    "num_epochs = 5\n",
    "for i in range(num_epochs):\n",
    "    print(i)"
   ]
  },
  {
   "cell_type": "code",
   "execution_count": 10,
   "metadata": {
    "id": "_hP9rzDyFXTg"
   },
   "outputs": [],
   "source": [
    "def gradient_descent(inputs, outputs, learning_rate, num_epochs):\n",
    "  \"\"\"Apply the gradient descent algorithm to learn learn linear regression.\n",
    "\n",
    "  Args:\n",
    "    inputs: A 2-D array where each column is an input feature and each\n",
    "            row is a training example.\n",
    "    outputs: A 1-D array containing the real-valued\n",
    "             label corresponding to the input data in the same row.\n",
    "    learning_rate: The learning rate to use for updates.\n",
    "    num_epochs: The number of passes through the full training data.\n",
    "\n",
    "  Returns:\n",
    "    weights: A 2-D array with the learned weights after each training epoch.\n",
    "    losses: A 1-D array with the loss after each epoch.\n",
    "  \"\"\"\n",
    "  # m = number of examples, n = number of features\n",
    "  m, n = inputs.shape\n",
    "  \n",
    "  # We'll use a vector of size n to store the learned weights and initialize\n",
    "  # all weights to 1. \n",
    "  W = np.ones(n)\n",
    "  \n",
    "  # Keep track of the training loss and weights after each step.\n",
    "  losses = []\n",
    "  weights = []\n",
    "  \n",
    "  for epoch in range(num_epochs):\n",
    "    # Append the old weights to the weights list to keep track of them.\n",
    "    weights.append(W)\n",
    "\n",
    "    # Evaluate the current predictions for the training examples given\n",
    "    # the current estimate of W. \n",
    "    predictions = NotImplemented\n",
    "    \n",
    "    # Find the difference between the predictions and the actual target\n",
    "    # values.\n",
    "    diff = NotImplemented\n",
    "    \n",
    "    # In standard linear regression, we want to minimize the sum of squared\n",
    "    # differences. Compute the mean squared error loss. Don't bother with the\n",
    "    # 1/2 scaling factor here.\n",
    "    loss = NotImplemented\n",
    "\n",
    "    # Append the loss to the losses list to keep a track of it.\n",
    "    losses.append(loss)\n",
    "    \n",
    "    # Compute the gradient with respect to the loss.\n",
    "    # [Formula (4) in the Gradient Descent Implementation]\n",
    "    gradient = NotImplemented\n",
    "\n",
    "    # Update weights, scaling the gradient by the learning rate.\n",
    "    W = W - learning_rate * gradient\n",
    "\n",
    "  # Append the final weights after the loop\n",
    "  weights.append(W)\n",
    "      \n",
    "  return np.array(weights), np.array(losses)"
   ]
  },
  {
   "cell_type": "code",
   "execution_count": 13,
   "metadata": {},
   "outputs": [
    {
     "name": "stdout",
     "output_type": "stream",
     "text": [
      "Epoch 1 | Loss: 1665.3667 | Weights: [1.00709394 1.33262886]\n",
      "Epoch 2 | Loss: 742.4149 | Weights: [1.01183193 1.55469157]\n",
      "Epoch 3 | Loss: 331.0657 | Weights: [1.01499708 1.7029404 ]\n",
      "Epoch 4 | Loss: 147.7321 | Weights: [1.01711221 1.80191116]\n",
      "Epoch 5 | Loss: 66.0224 | Weights: [1.01852634 1.8679839 ]\n"
     ]
    },
    {
     "data": {
      "image/png": "[encoded data removed]",
      "text/plain": [
       "<Figure size 640x480 with 1 Axes>"
      ]
     },
     "metadata": {},
     "output_type": "display_data"
    }
   ],
   "source": [
    "# YOUR CODE HERE\n",
    "\n",
    "def gradient_descent(inputs, outputs, learning_rate, num_epochs):\n",
    "  \"\"\"Apply the gradient descent algorithm to learn learn linear regression.\n",
    "\n",
    "  Args:\n",
    "    inputs: A 2-D array where each column is an input feature and each\n",
    "            row is a training example.\n",
    "    outputs: A 1-D array containing the real-valued\n",
    "             label corresponding to the input data in the same row.\n",
    "    learning_rate: The learning rate to use for updates.\n",
    "    num_epochs: The number of passes through the full training data.\n",
    "\n",
    "  Returns:\n",
    "    weights: A 2-D array with the learned weights after each training epoch.\n",
    "    losses: A 1-D array with the loss after each epoch.\n",
    "  \"\"\"\n",
    "  # m = number of examples, n = number of features\n",
    "  m, n = inputs.shape\n",
    "  \n",
    "  # We'll use a vector of size n to store the learned weights and initialize\n",
    "  # all weights to 1. \n",
    "  W = np.ones(n)\n",
    "  \n",
    "  # Keep track of the training loss and weights after each step.\n",
    "  losses = []\n",
    "  weights = []\n",
    "  \n",
    "  for epoch in range(num_epochs):\n",
    "    # Append the old weights to the weights list to keep track of them.\n",
    "    weights.append(W.copy())\n",
    "\n",
    "    # Evaluate the current predictions for the training examples given\n",
    "    # the current estimate of W. \n",
    "    predictions = np.dot(inputs,W)\n",
    "    \n",
    "    # Find the difference between the predictions and the actual target\n",
    "    # values.\n",
    "    diff = predictions - outputs\n",
    "    \n",
    "    # In standard linear regression, we want to minimize the sum of squared\n",
    "    # differences. Compute the mean squared error loss. Don't bother with the\n",
    "    # 1/2 scaling factor here.\n",
    "    loss = np.mean(diff ** 2)\n",
    "\n",
    "    # Append the loss to the losses list to keep a track of it.\n",
    "    losses.append(loss)\n",
    "    \n",
    "    # Compute the gradient with respect to the loss.\n",
    "    # [Formula (4) in the Gradient Descent Implementation]\n",
    "    gradient = (inputs.T @ diff)/m\n",
    "\n",
    "    # Update weights, scaling the gradient by the learning rate.\n",
    "    W = W - learning_rate * gradient\n",
    "\n",
    "    print(f\"Epoch {epoch+1} | Loss: {loss:.4f} | Weights: {W}\")\n",
    "\n",
    "  # Append the final weights after the loop\n",
    "  weights.append(W.copy())\n",
    "      \n",
    "  return np.array(weights), np.array(losses)\n",
    "\n",
    "# Run gradient descent\n",
    "\n",
    "learning_rate = 0.0002\n",
    "num_epocs = 5\n",
    "\n",
    "weights, losses = gradient_descent(X_train, Y_train, learning_rate, num_epochs)\n",
    "\n",
    "# plot loss\n",
    "\n",
    "plt.plot(range(1, num_epochs+1), losses, marker='o')\n",
    "plt.xlabel('Epoch')\n",
    "plt.ylabel('Loss')\n",
    "plt.title('Loss vs Epoch')\n",
    "plt.show()"
   ]
  },
  {
   "cell_type": "markdown",
   "metadata": {},
   "source": [
    "Hyperparameter tuning plays an important role in optimizing ML models. One systematically adjusts hyperparameters to find the right balance between model complexity and generalization, ultimately leading to better predictive performance and model effectiveness.\n",
    "\n",
    "Note that hyperparameter tuning is typically performed on **a separate validation dataset**. However, for the purposes of this assignment and based on the ML knowledge you've acquired thus far, we will perform hyperparameter tuning directly on the training data."
   ]
  },
  {
   "cell_type": "markdown",
   "metadata": {},
   "source": [
    "---\n",
    "### Step 5: Hyperparameter tuning"
   ]
  },
  {
   "cell_type": "markdown",
   "metadata": {},
   "source": [
    "### <span style=\"color:chocolate\">Exercise 6:</span> Tuning hyperparameters (10 points)"
   ]
  },
  {
   "cell_type": "markdown",
   "metadata": {},
   "source": [
    "Answer the following questions:\n",
    "    \n",
    "1. Do you think it would be beneficial to extend the model training in Exercise 5 by increasing the learning rate to 0.02? Justify your answer;\n",
    "\n",
    "2. Restoring to the previous learning_rate = .0002, would you  consider extending the model training in Exercise 5 by increasing the number of epochs to 10? Justify your answer.\n",
    "\n",
    "Note: to support your answers, we recommend the following actions:\n",
    "- create side-by-side subplots to show the loss at each epoch (make sure to include axes name and title), and\n",
    "- print the loss at the last epoch under the following scenarios:\n",
    "    - learning_rate=.0002, num_epochs=5;\n",
    "    - learning_rate=.02, num_epochs=5;\n",
    "    - learning_rate=.0002, num_epochs=10."
   ]
  },
  {
   "cell_type": "code",
   "execution_count": 14,
   "metadata": {},
   "outputs": [
    {
     "name": "stdout",
     "output_type": "stream",
     "text": [
      "Epoch 1 | Loss: 1665.3667 | Weights: [1.00709394 1.33262886]\n",
      "Epoch 2 | Loss: 742.4149 | Weights: [1.01183193 1.55469157]\n",
      "Epoch 3 | Loss: 331.0657 | Weights: [1.01499708 1.7029404 ]\n",
      "Epoch 4 | Loss: 147.7321 | Weights: [1.01711221 1.80191116]\n",
      "Epoch 5 | Loss: 66.0224 | Weights: [1.01852634 1.8679839 ]\n",
      "Final loss (lr=0.0002, epochs=5): 66.0224\n",
      "Epoch 1 | Loss: 1665.3667 | Weights: [ 1.70939419 34.26288605]\n",
      "Epoch 2 | Loss: 1730683.4233 | Weights: [  -21.14077098 -1038.13576669]\n",
      "Epoch 3 | Loss: 1798911746.5166 | Weights: [  715.57111348 33536.08547039]\n",
      "Epoch 4 | Loss: 1869830168587.4255 | Weights: [  -23036.06070114 -1081139.68066399]\n",
      "Epoch 5 | Loss: 1943544404976516.2500 | Weights: [  742718.54314852 34856099.64525088]\n",
      "Final loss (lr=0.02, epochs=5): 1943544404976516.2500\n",
      "Epoch 1 | Loss: 1665.3667 | Weights: [1.00709394 1.33262886]\n",
      "Epoch 2 | Loss: 742.4149 | Weights: [1.01183193 1.55469157]\n",
      "Epoch 3 | Loss: 331.0657 | Weights: [1.01499708 1.7029404 ]\n",
      "Epoch 4 | Loss: 147.7321 | Weights: [1.01711221 1.80191116]\n",
      "Epoch 5 | Loss: 66.0224 | Weights: [1.01852634 1.8679839 ]\n",
      "Epoch 6 | Loss: 29.6053 | Weights: [1.01947249 1.91209397]\n",
      "Epoch 7 | Loss: 13.3746 | Weights: [1.02010622 1.94154177]\n",
      "Epoch 8 | Loss: 6.1407 | Weights: [1.02053137 1.96120106]\n",
      "Epoch 9 | Loss: 2.9167 | Weights: [1.02081727 1.97432553]\n",
      "Epoch 10 | Loss: 1.4798 | Weights: [1.02101022 1.98308738]\n",
      "Final loss (lr=0.0002, epochs=10): 1.4798\n"
     ]
    },
    {
     "data": {
      "image/png": "[encoded data removed]",
      "text/plain": [
       "<Figure size 1500x400 with 3 Axes>"
      ]
     },
     "metadata": {},
     "output_type": "display_data"
    }
   ],
   "source": [
    "# YOUR CODE HERE\n",
    "\n",
    "# different secnarios\n",
    "scenarios = [(0.0002, 5), (0.02, 5), (0.0002, 10)]\n",
    "\n",
    "# plotting\n",
    "fig, axes = plt.subplots(1, 3, figsize=(15,4))\n",
    "\n",
    "for idx, (lr, epochs) in enumerate(scenarios):\n",
    "    _, loss = gradient_descent(X_train, Y_train, lr, epochs)\n",
    "    axes[idx].plot(range(1, epochs+1), loss, marker='o')\n",
    "    axes[idx].set_title(f'lr={lr}, epochs={epochs}')\n",
    "    axes[idx].set_xlabel('Epoch')\n",
    "    axes[idx].set_ylabel('Loss')\n",
    "    print(f\"Final loss (lr={lr}, epochs={epochs}): {loss[-1]:.4f}\")\n",
    "\n",
    "plt.tight_layout()\n",
    "plt.show()"
   ]
  },
  {
   "cell_type": "markdown",
   "metadata": {},
   "source": [
    "### <span style=\"color:chocolate\">Exercise 7:</span> Choosing the best model (10 points)"
   ]
  },
  {
   "cell_type": "markdown",
   "metadata": {},
   "source": [
    "Write down the learned model that you consider most optimal given your answers to the hyperparameter tuning exercise. Call this model $M_3(x)$."
   ]
  },
  {
   "cell_type": "code",
   "execution_count": 20,
   "metadata": {},
   "outputs": [
    {
     "name": "stdout",
     "output_type": "stream",
     "text": [
      "Epoch 1 | Loss: 1665.3667 | Weights: [1.00709394 1.33262886]\n",
      "Epoch 2 | Loss: 742.4149 | Weights: [1.01183193 1.55469157]\n",
      "Epoch 3 | Loss: 331.0657 | Weights: [1.01499708 1.7029404 ]\n",
      "Epoch 4 | Loss: 147.7321 | Weights: [1.01711221 1.80191116]\n",
      "Epoch 5 | Loss: 66.0224 | Weights: [1.01852634 1.8679839 ]\n",
      "Epoch 6 | Loss: 29.6053 | Weights: [1.01947249 1.91209397]\n",
      "Epoch 7 | Loss: 13.3746 | Weights: [1.02010622 1.94154177]\n",
      "Epoch 8 | Loss: 6.1407 | Weights: [1.02053137 1.96120106]\n",
      "Epoch 9 | Loss: 2.9167 | Weights: [1.02081727 1.97432553]\n",
      "Epoch 10 | Loss: 1.4798 | Weights: [1.02101022 1.98308738]\n",
      "Optimal weights (M3): [1.02101022 1.98308738]\n",
      "M3(X) = 1.0210 + 1.9831 * X\n"
     ]
    }
   ],
   "source": [
    "# YOUR ANSWER HERE\n",
    "\n",
    "# choosing the optimal weight\n",
    "\n",
    "optimal_weights, optimal_losses = gradient_descent(X_train, Y_train, learning_rate=0.0002, num_epochs=10)\n",
    "final_optimal_weights = optimal_weights[-1]\n",
    "\n",
    "print(\"Optimal weights (M3):\", final_optimal_weights)\n",
    "\n",
    "# printing result\n",
    "print(f\"M3(X) = {final_optimal_weights[0]:.4f} + {final_optimal_weights[1]:.4f} * X\")"
   ]
  },
  {
   "cell_type": "markdown",
   "metadata": {},
   "source": [
    "---\n",
    "### Step 6: Evaluation and Generalization"
   ]
  },
  {
   "cell_type": "markdown",
   "metadata": {},
   "source": [
    "To evaluate our models, we assess their performance based on how closely they fit the available data. In other words, we compare the true value $y$ with the predicted value $\\hat{y}$ for each $x$."
   ]
  },
  {
   "cell_type": "markdown",
   "metadata": {},
   "source": [
    "### <span style=\"color:chocolate\">Exercise 8:</span> Computing MSE (10 points)"
   ]
  },
  {
   "cell_type": "markdown",
   "metadata": {},
   "source": [
    "Assess the performance of the three models ($M_1(x)$, $M_2(x)$, $M_3(x)$) by computing the MSE metric on the training dataset. Hint: you can use the <span style=\"color:chocolate\">mean_squared_error()</span> method available in sklearn.metrics."
   ]
  },
  {
   "cell_type": "code",
   "execution_count": 21,
   "metadata": {},
   "outputs": [
    {
     "name": "stdout",
     "output_type": "stream",
     "text": [
      "Training MSE M1: 1397.608983658733\n",
      "Training MSE M2: 0.3280557752885262\n",
      "Training MSE M3 (optimal): 0.8393687909121693\n"
     ]
    }
   ],
   "source": [
    "# YOUR CODE HERE\n",
    "\n",
    "#evaluating MSE\n",
    "mse_M1_train = mean_squared_error(Y_train, M1_hat_train)\n",
    "mse_M2_train = mean_squared_error(Y_train, M2_hat_train)\n",
    "\n",
    "#predictions from optimal model\n",
    "M3_hat_train = np.dot(X_train, final_optimal_weights)\n",
    "mse_M3_train = mean_squared_error(Y_train, M3_hat_train)\n",
    "\n",
    "print(\"Training MSE M1:\", mse_M1_train)\n",
    "print(\"Training MSE M2:\", mse_M2_train)\n",
    "print(\"Training MSE M3 (optimal):\", mse_M3_train)"
   ]
  },
  {
   "cell_type": "markdown",
   "metadata": {},
   "source": [
    "### <span style=\"color:chocolate\">Exercise 9:</span> Generalization (10 points)"
   ]
  },
  {
   "cell_type": "markdown",
   "metadata": {},
   "source": [
    "Which of the three models ($M_1(x)$, $M_2(x)$, $M_3(x)$) demonstrates better generalization ability? Hint: compare training vs. test MSE."
   ]
  },
  {
   "cell_type": "code",
   "execution_count": 22,
   "metadata": {},
   "outputs": [
    {
     "name": "stdout",
     "output_type": "stream",
     "text": [
      "Test MSE M1: 1113.6003911560044\n",
      "Test MSE M2: 0.2908006971666422\n",
      "Test MSE M3 (optimal): 0.6026016556635998\n",
      "\n",
      "Model with smallest difference between train and test MSE generalizes best.\n"
     ]
    }
   ],
   "source": [
    "# YOUR CODE HERE\n",
    "\n",
    "# predicting on test data\n",
    "M1_hat_test = np.dot(X_test, new_train_M1)\n",
    "M2_hat_test = np.dot(X_test, new_train_M2)\n",
    "M3_hat_test = np.dot(X_test, final_optimal_weights)\n",
    "\n",
    "mse_M1_test = mean_squared_error(Y_test, M1_hat_test)\n",
    "mse_M2_test = mean_squared_error(Y_test, M2_hat_test)\n",
    "mse_M3_test = mean_squared_error(Y_test, M3_hat_test)\n",
    "\n",
    "print(\"Test MSE M1:\", mse_M1_test)\n",
    "print(\"Test MSE M2:\", mse_M2_test)\n",
    "print(\"Test MSE M3 (optimal):\", mse_M3_test)\n",
    "\n",
    "#comparing test data to check for generalization\n",
    "print(\"\\nModel with smallest difference between train and test MSE generalizes best.\")"
   ]
  },
  {
   "cell_type": "markdown",
   "metadata": {},
   "source": [
    "----\n",
    "### <span style=\"color:chocolate\">Exercise 10:</span> Additional practice (not graded)"
   ]
  },
  {
   "cell_type": "markdown",
   "metadata": {},
   "source": [
    "1. How does stochastic gradient descent (SGD) differ from the gradient descent (GD) approach implemented in Exercise 5?\n",
    "2. Determine the optimal weights for model $M_3(x)$ using SGD. Does SGD converge more rapidly? Explain the reasons for your answer."
   ]
  },
  {
   "cell_type": "code",
   "execution_count": null,
   "metadata": {},
   "outputs": [],
   "source": [
    "# YOUR ANSWER HERE"
   ]
  },
  {
   "cell_type": "code",
   "execution_count": null,
   "metadata": {},
   "outputs": [],
   "source": [
    "# YOUR CODE HERE"
   ]
  }
 ],
 "metadata": {
  "accelerator": "GPU",
  "colab": {
   "collapsed_sections": [],
   "name": "02 Linear Regression.ipynb",
   "private_outputs": true,
   "provenance": [],
   "toc_visible": true
  },
  "kernelspec": {
   "display_name": "Python 3 (ipykernel)",
   "language": "python",
   "name": "python3"
  },
  "language_info": {
   "codemirror_mode": {
    "name": "ipython",
    "version": 3
   },
   "file_extension": ".py",
   "mimetype": "text/x-python",
   "name": "python",
   "nbconvert_exporter": "python",
   "pygments_lexer": "ipython3",
   "version": "3.11.4"
  }
 },
 "nbformat": 4,
 "nbformat_minor": 4
}
