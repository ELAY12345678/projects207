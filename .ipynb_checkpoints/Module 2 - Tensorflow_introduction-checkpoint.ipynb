{
 "cells": [
  {
   "cell_type": "markdown",
   "id": "4c947e8a",
   "metadata": {},
   "source": [
    "## Week 2: TensorFlow introduction\n",
    "\n",
    "Creator: Cornelia Paulik <br>\n",
    "Email: cilin@ischool.berkeley.edu <br>"
   ]
  },
  {
   "cell_type": "markdown",
   "id": "0e1464c9-0a2f-4cfd-aad7-21b14299bde1",
   "metadata": {},
   "source": [
    "#### ``Readings``"
   ]
  },
  {
   "cell_type": "markdown",
   "id": "4cefcfba-8d3b-445e-834c-ef51baf6015e",
   "metadata": {},
   "source": [
    "1. Raschka & Mirjalili (RM), 3rd edition: Chapter 13 (pp. 425-462 in the print version of the book)."
   ]
  },
  {
   "cell_type": "markdown",
   "id": "f975dd01-070a-4a3c-a587-6f5932430161",
   "metadata": {},
   "source": [
    "#### ``Learning objectives``"
   ]
  },
  {
   "cell_type": "markdown",
   "id": "cf00492b",
   "metadata": {},
   "source": [
    "This notebook is intended to familiarize you with some basics of TensorFlow, which you'll use extensively in this course. "
   ]
  },
  {
   "cell_type": "markdown",
   "id": "07bc6851-2a79-4698-8dcc-f21b5a07f204",
   "metadata": {},
   "source": [
    "I am using the following package versions:\n",
    "* Pandas: 2.2.2\n",
    "* Numpy: 1.26.4\n",
    "* Matplotlib: 3.8.4\n",
    "* Seaborn: 0.13.2\n",
    "* Sklearn: 1.4.2\n",
    "* IPython: 8.25.0\n",
    "* Mlxtend: 0.23.3\n",
    "* Tensorflow: 2.17.0"
   ]
  },
  {
   "cell_type": "code",
   "execution_count": 1,
   "id": "cf16b1ac",
   "metadata": {},
   "outputs": [
    {
     "name": "stdout",
     "output_type": "stream",
     "text": [
      "env: TF_CPP_MIN_LOG_LEVEL=3  # silence some TensorFlow warnings and logs\n"
     ]
    }
   ],
   "source": [
    "import numpy as np\n",
    "import pandas as pd\n",
    "\n",
    "from matplotlib import pyplot as plt\n",
    "import seaborn as sns  # for nicer plots\n",
    "\n",
    "import tensorflow as tf\n",
    "from tensorflow import keras\n",
    "from sklearn.metrics import mean_squared_error\n",
    "\n",
    "%env TF_CPP_MIN_LOG_LEVEL=3  # silence some TensorFlow warnings and logs"
   ]
  },
  {
   "cell_type": "markdown",
   "id": "9d587024",
   "metadata": {},
   "source": [
    "``Tensors``"
   ]
  },
  {
   "cell_type": "code",
   "execution_count": 2,
   "id": "d619aac2",
   "metadata": {},
   "outputs": [
    {
     "name": "stdout",
     "output_type": "stream",
     "text": [
      "tf.Tensor([0 1 2 3 4], shape=(5,), dtype=int64)\n",
      "tf.Tensor([1. 1. 1. 1. 1.], shape=(5,), dtype=float64)\n"
     ]
    }
   ],
   "source": [
    "# Tensors are similar to numpy arrays. They're used to represent inputs and outputs of operations\n",
    "# You can create tensors from numpy arrays using the convert_to_tensor function\n",
    "\n",
    "a = np.arange(5)\n",
    "b = np.ones(5)\n",
    "\n",
    "a = tf.convert_to_tensor(a)\n",
    "b = tf.convert_to_tensor(b)\n",
    "\n",
    "print(a)\n",
    "print(b)"
   ]
  },
  {
   "cell_type": "code",
   "execution_count": 3,
   "id": "c7442d1e",
   "metadata": {},
   "outputs": [
    {
     "data": {
      "text/plain": [
       "<tf.Tensor: shape=(5,), dtype=int64, numpy=array([1, 2, 3, 4, 5])>"
      ]
     },
     "execution_count": 3,
     "metadata": {},
     "output_type": "execute_result"
    }
   ],
   "source": [
    "# Tensors support similar operations to numpy arrays\n",
    "# The syntax is a little different\n",
    "\n",
    "b = tf.cast(b, tf.int64)\n",
    "a + b"
   ]
  },
  {
   "cell_type": "code",
   "execution_count": 4,
   "id": "c7ad5c0d",
   "metadata": {},
   "outputs": [
    {
     "data": {
      "text/plain": [
       "<tf.Tensor: shape=(2, 3, 4), dtype=int64, numpy=\n",
       "array([[[ 0,  1,  2,  3],\n",
       "        [ 4,  5,  6,  7],\n",
       "        [ 8,  9, 10, 11]],\n",
       "\n",
       "       [[12, 13, 14, 15],\n",
       "        [16, 17, 18, 19],\n",
       "        [20, 21, 22, 23]]])>"
      ]
     },
     "execution_count": 4,
     "metadata": {},
     "output_type": "execute_result"
    }
   ],
   "source": [
    "a = np.arange(24)\n",
    "a = tf.convert_to_tensor(a)\n",
    "a = tf.reshape(a, [2, 3, 4])\n",
    "a"
   ]
  },
  {
   "cell_type": "code",
   "execution_count": 5,
   "id": "f481c06f",
   "metadata": {},
   "outputs": [
    {
     "data": {
      "text/plain": [
       "<tf.Tensor: shape=(), dtype=int64, numpy=276>"
      ]
     },
     "execution_count": 5,
     "metadata": {},
     "output_type": "execute_result"
    }
   ],
   "source": [
    "total = tf.reduce_sum(a)  # similar to numpy.sum\n",
    "total"
   ]
  },
  {
   "cell_type": "code",
   "execution_count": 6,
   "id": "b6f87281",
   "metadata": {},
   "outputs": [
    {
     "data": {
      "text/plain": [
       "<tf.Tensor: shape=(3, 4), dtype=int64, numpy=\n",
       "array([[ 6,  7,  8,  9],\n",
       "       [10, 11, 12, 13],\n",
       "       [14, 15, 16, 17]])>"
      ]
     },
     "execution_count": 6,
     "metadata": {},
     "output_type": "execute_result"
    }
   ],
   "source": [
    "avg = tf.reduce_mean(a, axis=0)\n",
    "avg"
   ]
  },
  {
   "cell_type": "markdown",
   "id": "7018a01f",
   "metadata": {},
   "source": [
    "\n",
    "Additional material in RM's GitHub repo (highly recommended): [Raschka & Mirjalili, Ch 13_part1](https://github.com/rasbt/python-machine-learning-book-3rd-edition/blob/master/ch13/ch13_part1.ipynb)\n",
    "\n",
    "---"
   ]
  },
  {
   "cell_type": "markdown",
   "id": "ae4fe43a",
   "metadata": {},
   "source": [
    "``Models in TF``"
   ]
  },
  {
   "cell_type": "markdown",
   "id": "65b6ee56",
   "metadata": {},
   "source": [
    "We'll be using TensorFlow to train ML models. TensorFlow is a large and complex library, including many constantly evolving functions and APIs (Keras is one set of convenient APIs inside TensorFlow). This means you'll want to learn how to use the documentation and the high-level ideas that guide its design.\n",
    "\n",
    "The trickiest thing to understand about TensorFlow is primary way in which it differs from standard programming. In a typical program, each line of code is executed sequentially. In TensorFlow, by contrast, you first define a computation graph. The graph specifies how data flows from input to output. However, no computation actually happens until data is passed into the graph and execution begins.\n",
    "\n",
    "Here's a simple example. Don't worry about understanding the ML details. In a few weeks, you'll understand everything in the code below."
   ]
  },
  {
   "cell_type": "markdown",
   "id": "59ba1f48",
   "metadata": {},
   "source": [
    "``Read data``"
   ]
  },
  {
   "cell_type": "code",
   "execution_count": 7,
   "id": "d98bab13",
   "metadata": {},
   "outputs": [
    {
     "data": {
      "text/html": [
       "<div>\n",
       "<style scoped>\n",
       "    .dataframe tbody tr th:only-of-type {\n",
       "        vertical-align: middle;\n",
       "    }\n",
       "\n",
       "    .dataframe tbody tr th {\n",
       "        vertical-align: top;\n",
       "    }\n",
       "\n",
       "    .dataframe thead th {\n",
       "        text-align: right;\n",
       "    }\n",
       "</style>\n",
       "<table border=\"1\" class=\"dataframe\">\n",
       "  <thead>\n",
       "    <tr style=\"text-align: right;\">\n",
       "      <th></th>\n",
       "      <th>age</th>\n",
       "      <th>sex</th>\n",
       "      <th>bmi</th>\n",
       "      <th>map</th>\n",
       "      <th>tc</th>\n",
       "      <th>ldl</th>\n",
       "      <th>hdl</th>\n",
       "      <th>tch</th>\n",
       "      <th>ltg</th>\n",
       "      <th>glu</th>\n",
       "      <th>disease_progression</th>\n",
       "    </tr>\n",
       "  </thead>\n",
       "  <tbody>\n",
       "    <tr>\n",
       "      <th>0</th>\n",
       "      <td>59</td>\n",
       "      <td>2</td>\n",
       "      <td>32.1</td>\n",
       "      <td>101.0</td>\n",
       "      <td>157</td>\n",
       "      <td>93.2</td>\n",
       "      <td>38.0</td>\n",
       "      <td>4.0</td>\n",
       "      <td>4.8598</td>\n",
       "      <td>87</td>\n",
       "      <td>151</td>\n",
       "    </tr>\n",
       "    <tr>\n",
       "      <th>1</th>\n",
       "      <td>48</td>\n",
       "      <td>1</td>\n",
       "      <td>21.6</td>\n",
       "      <td>87.0</td>\n",
       "      <td>183</td>\n",
       "      <td>103.2</td>\n",
       "      <td>70.0</td>\n",
       "      <td>3.0</td>\n",
       "      <td>3.8918</td>\n",
       "      <td>69</td>\n",
       "      <td>75</td>\n",
       "    </tr>\n",
       "  </tbody>\n",
       "</table>\n",
       "</div>"
      ],
      "text/plain": [
       "   age  sex   bmi    map   tc    ldl   hdl  tch     ltg  glu  \\\n",
       "0   59    2  32.1  101.0  157   93.2  38.0  4.0  4.8598   87   \n",
       "1   48    1  21.6   87.0  183  103.2  70.0  3.0  3.8918   69   \n",
       "\n",
       "   disease_progression  \n",
       "0                  151  \n",
       "1                   75  "
      ]
     },
     "execution_count": 7,
     "metadata": {},
     "output_type": "execute_result"
    }
   ],
   "source": [
    "# Note that each example (row) in this dataset describes a patient\n",
    "df = pd.read_csv(\n",
    "    'https://www4.stat.ncsu.edu/~boos/var.select/diabetes.tab.txt',\n",
    "    delimiter='\\t'\n",
    ")\n",
    "\n",
    "# rename columns\n",
    "df.columns = [\n",
    "    'age', 'sex', 'bmi', 'map',\n",
    "    'tc', 'ldl', 'hdl', 'tch',\n",
    "    'ltg', 'glu', 'disease_progression']\n",
    "\n",
    "df.head(2)"
   ]
  },
  {
   "cell_type": "markdown",
   "id": "3d496505",
   "metadata": {},
   "source": [
    "``Split data into training and test``"
   ]
  },
  {
   "cell_type": "code",
   "execution_count": 8,
   "id": "bfa6b41e",
   "metadata": {},
   "outputs": [],
   "source": [
    "# define outcome #\n",
    "##################\n",
    "y = df['disease_progression'].values\n",
    "\n",
    "# define features #\n",
    "###################\n",
    "X = df[['age', 'sex', 'bmi', 'map', 'tc', 'ldl', 'hdl', 'tch', 'ltg', 'glu']].values\n",
    "\n",
    "# split #\n",
    "#########\n",
    "split = (0.7,0.3) #70% training and 30% test\n",
    "shuffle = np.random.permutation(np.arange(y.shape[0])) # very important to shuffle the data. Why?\n",
    "X, y = X[shuffle], y[shuffle]\n",
    "\n",
    "splits = np.multiply(len(y), split).astype(int) \n",
    "X_train, X_test = np.split(X, [splits[0]])\n",
    "y_train, y_test = np.split(y, [splits[0]])\n",
    "\n",
    "\n",
    "# df for y_train and X_train #\n",
    "##############################\n",
    "# easier for EDA later on\n",
    "df_train = pd.concat(\n",
    "    [pd.DataFrame(y_train), pd.DataFrame(X_train)],\n",
    "    axis=1\n",
    ")\n",
    "\n",
    "# rename columns\n",
    "df_train.columns=['disease_progression', 'age', 'sex', 'bmi', 'map',\n",
    "    'tc', 'ldl', 'hdl', 'tch',\n",
    "    'ltg', 'glu']"
   ]
  },
  {
   "cell_type": "markdown",
   "id": "396f9702",
   "metadata": {},
   "source": [
    "``Define features of interest``"
   ]
  },
  {
   "cell_type": "code",
   "execution_count": 9,
   "id": "b4881133",
   "metadata": {},
   "outputs": [],
   "source": [
    "temp_X_train = X_train[:,2] # choose only BMI\n",
    "temp_X_test = X_test[:,2]\n",
    "\n",
    "\n",
    "# exapand dimension so that temp_X_train is a 2D array\n",
    "temp_X_train = np.expand_dims(temp_X_train, axis=1) \n",
    "\n",
    "# exapand dimension so that temp_X_train is a 2D array\n",
    "temp_X_test = np.expand_dims(temp_X_test, axis=1) "
   ]
  },
  {
   "cell_type": "markdown",
   "id": "aa4e2fb8",
   "metadata": {},
   "source": [
    "Define and compile model:"
   ]
  },
  {
   "cell_type": "code",
   "execution_count": 10,
   "id": "7ea91a17",
   "metadata": {},
   "outputs": [],
   "source": [
    "def build_model(num_features):\n",
    "    \"\"\"Return a simple linear regression model using the Keras Sequential API.\"\"\"\n",
    "  # Clear session and set a random seed for consistent behavior.\n",
    "    tf.keras.backend.clear_session()\n",
    "    tf.random.set_seed(0)\n",
    "\n",
    "  # Use Keras Sequential API to build a linear regression model.\n",
    "    model = keras.Sequential()\n",
    "    \n",
    "    # create input layer\n",
    "    model.add(tf.keras.Input(shape=(num_features,),\n",
    "         name='Input'\n",
    "    ))\n",
    "\n",
    "\n",
    "    # create output layer\n",
    "    model.add(keras.layers.Dense(\n",
    "      activation = None,          # linear activation is used\n",
    "      units=1,                    # there is a single output\n",
    "      use_bias=True               # include a learned bias parameter\n",
    "      ))\n",
    "    \n",
    "  \n",
    "  # Use mean squared error as our loss and the Adam optimizer.\n",
    "    optimizer = tf.keras.optimizers.Adam(learning_rate=0.01)\n",
    "    model.compile(loss='mse', optimizer=optimizer)\n",
    "    \n",
    "    return model\n",
    "\n",
    "# Build a model\n",
    "model = build_model(num_features=temp_X_train.shape[1])"
   ]
  },
  {
   "cell_type": "markdown",
   "id": "dcdf302a",
   "metadata": {},
   "source": [
    "Train model:"
   ]
  },
  {
   "cell_type": "code",
   "execution_count": 11,
   "id": "8daa259b",
   "metadata": {},
   "outputs": [],
   "source": [
    "# Train model. Hold out 10% of data for validation/test\n",
    "history = model.fit(\n",
    "          x=temp_X_train, y=y_train,\n",
    "          validation_data=[temp_X_test, y_test],\n",
    "          batch_size=12,\n",
    "          epochs=50,\n",
    "          verbose=0\n",
    ")"
   ]
  },
  {
   "cell_type": "code",
   "execution_count": 12,
   "id": "cb8f01ef",
   "metadata": {},
   "outputs": [
    {
     "data": {
      "image/png": "[encoded data removed]",
      "text/plain": [
       "<Figure size 640x480 with 1 Axes>"
      ]
     },
     "metadata": {},
     "output_type": "display_data"
    }
   ],
   "source": [
    "def plot_loss(history):\n",
    "    plt.plot(history.history['loss'], label='train loss')\n",
    "    #plt.plot(history.history['val_loss'], label='test loss') # val_loss is the validation/test data\n",
    "    plt.xlabel('Epoch')\n",
    "    plt.ylabel('MSE (\"BMI\")')\n",
    "    plt.legend()\n",
    "    plt.grid(True)\n",
    "\n",
    "plot_loss(history)"
   ]
  },
  {
   "cell_type": "markdown",
   "id": "33a4dc20",
   "metadata": {},
   "source": [
    "Evaluation"
   ]
  },
  {
   "cell_type": "code",
   "execution_count": 13,
   "id": "9045a88b",
   "metadata": {},
   "outputs": [
    {
     "name": "stdout",
     "output_type": "stream",
     "text": [
      "\u001b[1m1/1\u001b[0m \u001b[32m━━━━━━━━━━━━━━━━━━━━\u001b[0m\u001b[37m\u001b[0m \u001b[1m0s\u001b[0m 30ms/step\n"
     ]
    },
    {
     "data": {
      "text/plain": [
       "array([131.33664, 143.34949, 116.59359, 144.44157, 146.62572, 131.88269,\n",
       "       144.98761, 164.645  , 194.13107, 144.98761], dtype=float32)"
      ]
     },
     "execution_count": 13,
     "metadata": {},
     "output_type": "execute_result"
    }
   ],
   "source": [
    "# Run the trained model on the first 10 'BMI' train values\n",
    "y_train_pred = model.predict(x=temp_X_train[:10]).flatten()\n",
    "y_train_pred"
   ]
  },
  {
   "cell_type": "code",
   "execution_count": 14,
   "id": "3b8aba1b-9f4c-4dcd-a809-c23f59a0a0df",
   "metadata": {},
   "outputs": [
    {
     "data": {
      "text/plain": [
       "array([185, 200,  96,  59, 126, 190,  39, 202, 279, 100])"
      ]
     },
     "execution_count": 14,
     "metadata": {},
     "output_type": "execute_result"
    }
   ],
   "source": [
    "# compare with the actual value for the first 10 'BMI' train values\n",
    "y_train[:10]"
   ]
  },
  {
   "cell_type": "code",
   "execution_count": 15,
   "id": "b2b82e6b-4c16-46a4-b5c4-cb9125f26b9f",
   "metadata": {},
   "outputs": [
    {
     "name": "stdout",
     "output_type": "stream",
     "text": [
      "\u001b[1m1/1\u001b[0m \u001b[32m━━━━━━━━━━━━━━━━━━━━\u001b[0m\u001b[37m\u001b[0m \u001b[1m0s\u001b[0m 7ms/step\n"
     ]
    },
    {
     "data": {
      "text/plain": [
       "array([159.18462 , 119.323784, 161.36877 , 156.45442 , 124.78417 ,\n",
       "       143.34949 , 150.448   , 158.63858 , 125.87625 , 155.36235 ],\n",
       "      dtype=float32)"
      ]
     },
     "execution_count": 15,
     "metadata": {},
     "output_type": "execute_result"
    }
   ],
   "source": [
    "# Run the trained model on the first 10 'BMI' test values\n",
    "y_test_pred = model.predict(x=temp_X_test[:10]).flatten()\n",
    "y_test_pred"
   ]
  },
  {
   "cell_type": "code",
   "execution_count": 16,
   "id": "7515494b",
   "metadata": {},
   "outputs": [
    {
     "data": {
      "text/plain": [
       "array([262,  86, 265, 297,  96, 190, 245, 248, 114, 144])"
      ]
     },
     "execution_count": 16,
     "metadata": {},
     "output_type": "execute_result"
    }
   ],
   "source": [
    "# compare with the actual value for the first 10 'BMI' test values\n",
    "y_test[:10]"
   ]
  },
  {
   "cell_type": "code",
   "execution_count": 19,
   "id": "ac86302b-64cd-4937-a79f-8cea81046f58",
   "metadata": {},
   "outputs": [
    {
     "name": "stdout",
     "output_type": "stream",
     "text": [
      "\u001b[1m10/10\u001b[0m \u001b[32m━━━━━━━━━━━━━━━━━━━━\u001b[0m\u001b[37m\u001b[0m \u001b[1m0s\u001b[0m 333us/step\n",
      "\u001b[1m5/5\u001b[0m \u001b[32m━━━━━━━━━━━━━━━━━━━━\u001b[0m\u001b[37m\u001b[0m \u001b[1m0s\u001b[0m 426us/step\n",
      "MSE train: 4359.287687575943\n",
      "MSE test: 4303.696221772796\n"
     ]
    }
   ],
   "source": [
    "# compute MSE train vs. test set for all the data\n",
    "y_train_pred = model.predict(temp_X_train).flatten()\n",
    "y_test_pred = model.predict(temp_X_test).flatten()\n",
    "\n",
    "mse_train = mean_squared_error(y_train, y_train_pred)\n",
    "mse_test = mean_squared_error(y_test, y_test_pred)\n",
    "\n",
    "print('MSE train:', mse_train)\n",
    "print('MSE test:', mse_test)"
   ]
  },
  {
   "cell_type": "markdown",
   "id": "cc57be29",
   "metadata": {},
   "source": [
    "\n",
    "Check here another example (highly recommended): https://www.tensorflow.org/tutorials/keras/regression\n",
    "\n",
    "---"
   ]
  }
 ],
 "metadata": {
  "kernelspec": {
   "display_name": "Python 3 (ipykernel)",
   "language": "python",
   "name": "python3"
  },
  "language_info": {
   "codemirror_mode": {
    "name": "ipython",
    "version": 3
   },
   "file_extension": ".py",
   "mimetype": "text/x-python",
   "name": "python",
   "nbconvert_exporter": "python",
   "pygments_lexer": "ipython3",
   "version": "3.12.4"
  }
 },
 "nbformat": 4,
 "nbformat_minor": 5
}
