{
 "cells": [
  {
   "cell_type": "code",
   "execution_count": 28,
   "id": "fa1868e8-61d5-4a94-a6da-1bbc53c03342",
   "metadata": {},
   "outputs": [],
   "source": [
    "import numpy as np\n",
    "import pandas as pd\n",
    "import matplotlib as mtp"
   ]
  },
  {
   "cell_type": "code",
   "execution_count": 4,
   "id": "6749e021-9968-4870-abf1-d2554d390de3",
   "metadata": {},
   "outputs": [
    {
     "name": "stdout",
     "output_type": "stream",
     "text": [
      "                       mean  median          std  count   min   max\n",
      "ref_area.label                                                     \n",
      "Uruguay         6684.500000  6684.5   689.429112      2  6197  7172\n",
      "Panama          5363.727273  5396.0   978.262244     11  3956  7142\n",
      "Chile           4628.200000  4938.5  1588.503335     10   495  6524\n",
      "Costa Rica      4579.818182  5701.0  2803.334722     11    59  7868\n",
      "Argentina       3284.500000  3771.0  1865.995789      8   424  5745\n"
     ]
    }
   ],
   "source": [
    "import pandas as pd\n",
    "\n",
    "df_y = pd.read_csv(\n",
    "    \"Donwload from ILOSTAT  - EAR_4HRL_SEX_CUR_NB_A-filtered-2025-05-24.csv\",\n",
    "    usecols=[\n",
    "        \"ref_area.label\",\n",
    "        \"indicator.label\",\n",
    "        \"sex.label\",\n",
    "        \"classif1.label\",\n",
    "        \"time\",\n",
    "        \"obs_value\",\n",
    "        \"note_indicator.label\"\n",
    "    ],\n",
    "    decimal=\",\",      # comma as decimal mark\n",
    "    thousands=\".\"     # dot as thousands separator\n",
    ")\n",
    "\n",
    "# 1. keep only female rows\n",
    "df_y_filtered = df_y.loc[df_y[\"sex.label\"] == \"Female\"]\n",
    "\n",
    "# 2. within those, keep only U.S.-dollar rows\n",
    "df_y_filtered_2 = df_y_filtered.loc[\n",
    "    df_y_filtered[\"classif1.label\"] == \"Currency: U.S. dollars\"\n",
    "]\n",
    "\n",
    "# 3. group and summarise\n",
    "country_stats = (\n",
    "    df_y_filtered_2\n",
    "      .groupby(\"ref_area.label\")[\"obs_value\"]\n",
    "      .agg(\n",
    "          mean=\"mean\",\n",
    "          median=\"median\",\n",
    "          std=\"std\",\n",
    "          count=\"size\",\n",
    "          min=\"min\",\n",
    "          max=\"max\"\n",
    "      )\n",
    "      .sort_values(\"mean\", ascending=False)\n",
    ")\n",
    "\n",
    "print(country_stats.head())\n"
   ]
  },
  {
   "cell_type": "code",
   "execution_count": null,
   "id": "dfffd17d-d5a2-430e-973e-f09207a5ad9f",
   "metadata": {},
   "outputs": [],
   "source": []
  }
 ],
 "metadata": {
  "kernelspec": {
   "display_name": "Python 3 (ipykernel)",
   "language": "python",
   "name": "python3"
  },
  "language_info": {
   "codemirror_mode": {
    "name": "ipython",
    "version": 3
   },
   "file_extension": ".py",
   "mimetype": "text/x-python",
   "name": "python",
   "nbconvert_exporter": "python",
   "pygments_lexer": "ipython3",
   "version": "3.11.4"
  }
 },
 "nbformat": 4,
 "nbformat_minor": 5
}
