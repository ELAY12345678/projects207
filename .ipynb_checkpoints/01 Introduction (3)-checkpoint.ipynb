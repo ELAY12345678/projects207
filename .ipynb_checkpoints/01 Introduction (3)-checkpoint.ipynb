{
 "cells": [
  {
   "cell_type": "markdown",
   "metadata": {
    "id": "yfHnUrrxivlx"
   },
   "source": [
    "# Colab Setup\n",
    "\n",
    "This notebook gives a brief introduction to Colab and some of the libraries we'll use in the Machine Learning course. "
   ]
  },
  {
   "cell_type": "markdown",
   "metadata": {
    "id": "iVhYJkaXoEbV"
   },
   "source": [
    "## Using Colab\n",
    "\n",
    "A Colab is a list of *cells*. Each cell is either a text cell (like this one) or a code cell (like the one below). To run code cells, you must be connected to a runtime server. Click *Connect* in the toolbar (top-right). Then, to run the cell below:\n",
    "* Click the **Play icon** in the left gutter of the cell\n",
    "* Type **Cmd/Ctrl+Enter** to run the cell in place\n",
    "* Type **Shift+Enter** to run the cell and move focus to the next cell (adding one if none exists)\n",
    "\n",
    "Check out more keyboard shortcuts in **Tools->Keyboard shortcuts**."
   ]
  },
  {
   "cell_type": "code",
   "execution_count": 1,
   "metadata": {
    "id": "Y6MzJPOCPMl1"
   },
   "outputs": [
    {
     "name": "stdout",
     "output_type": "stream",
     "text": [
      "Hello World\n",
      "7\n",
      "22\n"
     ]
    }
   ],
   "source": [
    "# Print Hello World.\n",
    "print(\"Hello World\")\n",
    "\n",
    "# Do some basic computation.\n",
    "x = 5\n",
    "y = x + 2\n",
    "print(y)\n",
    "\n",
    "# Define a Python function.\n",
    "def add_two(x):\n",
    "  return x+2\n",
    "print(add_two(20))"
   ]
  },
  {
   "cell_type": "markdown",
   "metadata": {
    "id": "SEdrm1KSEYyq"
   },
   "source": [
    "### Warning: Global Variables!\n",
    "\n",
    "In Colab, all the variables are global: once created, they are accessible from any code cell. However, you should make sure that your whole Colab executes properly from top to bottom. It's a good idea to use **Runtime -> Restart runtime** and then **Runtime -> Run all** to make sure everything works as intended, especially before you submit."
   ]
  },
  {
   "cell_type": "markdown",
   "metadata": {
    "id": "sA1JF3kjQute"
   },
   "source": [
    "# Brief Tour of Python Libraries\n",
    "\n",
    "Here, we'll briefly introduce the most important libraries used in this course."
   ]
  },
  {
   "cell_type": "markdown",
   "metadata": {
    "id": "cnX_B6_ARRD0"
   },
   "source": [
    "## Numpy\n",
    "\n",
    "Numpy is a scientific computing library with lots of tools, but at its core is the idea of an n-dimensional array. We will mostly use numpy to create and manipulate arrays. Note that a 1-D array is called a *vector*, a 2-D array is called a *matrix*, and n-D arrays are sometimes referred to as *tensors* (thus, *TensorFlow*, but more on that later).\n",
    "\n",
    "Try running the code below and make sure you understand what it's doing. See the [Numpy Quickstart Guide](https://numpy.org/doc/stable/user/quickstart.html) for more."
   ]
  },
  {
   "cell_type": "code",
   "execution_count": 2,
   "metadata": {
    "id": "PHgsV2P_VeV6"
   },
   "outputs": [
    {
     "name": "stdout",
     "output_type": "stream",
     "text": [
      "Here is x:\n",
      " [ 0  1  2  3  4  5  6  7  8  9 10 11 12 13 14]\n",
      "Shape of x: (15,)\n",
      "Here is y:\n",
      " [[ 0  1  2  3  4]\n",
      " [ 5  6  7  8  9]\n",
      " [10 11 12 13 14]]\n",
      "Shape of y: (3, 5)\n",
      "Here is the first row of y:\n",
      " [0 1 2 3 4]\n",
      "Here is the first column of y:\n",
      " [ 0  5 10]\n"
     ]
    }
   ],
   "source": [
    "import numpy as np\n",
    "\n",
    "# Create a new 1-D array with 15 integers.\n",
    "x = np.arange(0,15)\n",
    "print('Here is x:\\n', x)\n",
    "print('Shape of x:', x.shape)\n",
    "\n",
    "# Resize the array to 3 rows by 5 columns (3x5).\n",
    "y = x.reshape(3,5)\n",
    "print('Here is y:\\n', y)\n",
    "print('Shape of y:', y.shape)\n",
    "\n",
    "# Use array slicing to get a single row or a single column.\n",
    "print('Here is the first row of y:\\n', y[0,:])\n",
    "print('Here is the first column of y:\\n', y[:,0])"
   ]
  },
  {
   "cell_type": "markdown",
   "metadata": {
    "id": "hB7iMrurYdJN"
   },
   "source": [
    "## Matplotlib\n",
    "\n",
    "This is the plotting library we'll use for all kinds of data visualization. It's both powerful and confusing. Honestly, I never remember how to do anything with it, and rely on Google to find documentation (or better yet, examples) of what I want.\n",
    "\n",
    "In addition, the Seaborn library often makes the standard matplotlib output much nicer, and includes some fancy visualization tools that we'll use from time to time.\n",
    "\n",
    "Finally, you should familiarize yourself with reading the documentation pages for library functions like [np.random.uniform](https://numpy.org/doc/stable/reference/random/generated/numpy.random.uniform.html) and [matplotlib.pyplot.plot](https://matplotlib.org/stable/api/_as_gen/matplotlib.pyplot.plot.html)."
   ]
  },
  {
   "cell_type": "code",
   "execution_count": 5,
   "metadata": {
    "id": "ARwA4uAMWzHS"
   },
   "outputs": [
    {
     "data": {
      "image/png": "[encoded data removed]",
      "text/plain": [
       "<Figure size 640x480 with 1 Axes>"
      ]
     },
     "metadata": {},
     "output_type": "display_data"
    },
    {
     "name": "stdout",
     "output_type": "stream",
     "text": [
      "[ 0  1  2  3  4  5  6  7  8  9 10 11 12 13 14 15 16 17 18 19 20 21 22 23\n",
      " 24 25 26 27 28 29 30 31 32 33 34 35 36 37 38 39 40 41 42 43 44 45 46 47\n",
      " 48 49 50 51 52 53 54 55 56 57 58 59 60 61 62 63 64 65 66 67 68 69 70 71\n",
      " 72 73 74 75 76 77 78 79 80 81 82 83 84 85 86 87 88 89 90 91 92 93 94 95\n",
      " 96 97 98 99]\n",
      "[-9.61547657  2.35564285 -9.95467097 -8.49812303 -7.12176973 -8.98265594\n",
      "  9.73539949  2.81704112  3.3039762   6.80495591  7.835201   -9.05530718\n",
      " -2.53493939  6.81782316 -4.34812175 -3.14008252 -1.60753404  6.77908784\n",
      "  0.67679193 -3.69250907 -7.11898577  7.80801126 -1.66156698  6.84873325\n",
      " -4.23722467  4.51415403 -2.21787942 -5.72630119  1.72786578  5.47837744\n",
      " -8.72764505  2.96891329 -7.35491941 -7.19109402 -9.23444759 -2.75590793\n",
      " -7.56788722 -2.4927438   1.39592564  7.86027552 -4.8423696  -2.18341451\n",
      " -7.62943398  8.616035    8.57700491 -1.71535213 -5.12016586 -9.11424073\n",
      "  8.41549356  3.03948477  2.28117983 -7.36903441  2.41408938  5.03899778\n",
      " -9.72084193 -1.54473079 -3.18522113 -2.3882447  -4.60683503  6.1255056\n",
      "  7.76201599  8.75030691  1.72898272  7.88210863  0.01951784 -6.67173524\n",
      "  3.64157593 -8.84568065  7.76343152  5.21883888 -7.68820753  8.51888121\n",
      " -3.34850455 -6.35879821  7.43810086  7.35284168 -6.85858798  3.59035122\n",
      "  2.40626842 -8.82713621 -5.32167319  3.01266937  7.5150395  -7.92025714\n",
      " -4.55144328  6.68859276 -5.65378716 -0.97917425  2.99340834  7.14365611\n",
      " -4.1757429   4.688686   -4.36309597  5.0289704  -9.1521252  -1.92285491\n",
      " -1.68195203 -6.60540456 -2.0170769  -0.08717652]\n",
      "[-4.61547657  7.60564285 -4.45467097 -2.74812303 -1.12176973 -2.73265594\n",
      " 16.23539949  9.56704112 10.3039762  14.05495591 15.335201   -1.30530718\n",
      "  5.46506061 15.06782316  4.15187825  5.60991748  7.39246596 16.02908784\n",
      " 10.17679193  6.05749093  2.88101423 18.05801126  8.83843302 17.59873325\n",
      "  6.76277533 15.76415403  9.28212058  6.02369881 13.72786578 17.72837744\n",
      "  3.77235495 15.71891329  5.64508059  6.05890598  4.26555241 10.99409207\n",
      "  6.43211278 11.7572562  15.89592564 22.61027552 10.1576304  13.06658549\n",
      "  7.87056602 24.366035   24.57700491 14.53464787 11.37983414  7.63575927\n",
      " 25.41549356 20.28948477 19.78117983 10.38096559 20.41408938 23.28899778\n",
      "  8.77915807 17.20526921 15.81477887 16.8617553  14.89316497 25.8755056\n",
      " 27.76201599 29.00030691 22.22898272 28.63210863 21.01951784 14.57826476\n",
      " 25.14157593 12.90431935 29.76343152 27.46883888 14.81179247 31.26888121\n",
      " 19.65149545 16.89120179 30.93810086 31.10284168 17.14141202 27.84035122\n",
      " 26.90626842 15.92286379 19.67832681 28.26266937 33.0150395  17.82974286\n",
      " 21.44855672 32.93859276 20.84621284 25.77082575 29.99340834 34.39365611\n",
      " 23.3242571  32.438686   23.63690403 33.2789704  19.3478748  26.82714509\n",
      " 27.31804797 22.64459544 27.4829231  29.66282348]\n"
     ]
    }
   ],
   "source": [
    "from matplotlib import pyplot as plt\n",
    "import seaborn as sns  # for nicer plots\n",
    "sns.set(style=\"darkgrid\")  # default style\n",
    "\n",
    "# Generate 100 x values.\n",
    "X = np.arange(0, 100)\n",
    "\n",
    "# Random values in [-10,10] with the same shape as X.\n",
    "noise = np.random.uniform(-10, 10, len(X))\n",
    "\n",
    "# Generate 100 y values with a linear relationship to x (plus the noise).\n",
    "Y = 0.25 * X + 5.0 + noise\n",
    "\n",
    "# Use the plot function to create a scatter plot.\n",
    "plt.plot(X, Y,\n",
    "         marker='.', linestyle='', color='blue', markersize=6)\n",
    "\n",
    "# Add axis labels and a title.\n",
    "plt.xlabel('X value')\n",
    "plt.ylabel('Y value')\n",
    "plt.title(\"Scatter of X vs Y\")\n",
    "plt.show()\n",
    "print(X)\n",
    "print(noise)\n",
    "print(Y)"
   ]
  },
  {
   "cell_type": "markdown",
   "metadata": {
    "id": "JFQoX3kU42R-"
   },
   "source": [
    "## Pandas\n",
    "\n",
    "Pandas is widely used for handling ML datasets and is well integrated with Numpy, Matplotlib, and TensorFlow. A Pandas *dataframe* object is a wrapper around a table (like a numpy array) with labeled columns. It's easiest to look at an example."
   ]
  },
  {
   "cell_type": "code",
   "execution_count": 5,
   "metadata": {
    "id": "qhNtoEXKzSnB"
   },
   "outputs": [
    {
     "data": {
      "text/html": [
       "<div>\n",
       "<style scoped>\n",
       "    .dataframe tbody tr th:only-of-type {\n",
       "        vertical-align: middle;\n",
       "    }\n",
       "\n",
       "    .dataframe tbody tr th {\n",
       "        vertical-align: top;\n",
       "    }\n",
       "\n",
       "    .dataframe thead th {\n",
       "        text-align: right;\n",
       "    }\n",
       "</style>\n",
       "<table border=\"1\" class=\"dataframe\">\n",
       "  <thead>\n",
       "    <tr style=\"text-align: right;\">\n",
       "      <th></th>\n",
       "      <th>longitude</th>\n",
       "      <th>latitude</th>\n",
       "      <th>housing_median_age</th>\n",
       "      <th>total_rooms</th>\n",
       "      <th>total_bedrooms</th>\n",
       "      <th>population</th>\n",
       "      <th>households</th>\n",
       "      <th>median_income</th>\n",
       "      <th>median_house_value</th>\n",
       "    </tr>\n",
       "  </thead>\n",
       "  <tbody>\n",
       "    <tr>\n",
       "      <th>0</th>\n",
       "      <td>-114.31</td>\n",
       "      <td>34.19</td>\n",
       "      <td>15.0</td>\n",
       "      <td>5612.0</td>\n",
       "      <td>1283.0</td>\n",
       "      <td>1015.0</td>\n",
       "      <td>472.0</td>\n",
       "      <td>1.4936</td>\n",
       "      <td>66900.0</td>\n",
       "    </tr>\n",
       "    <tr>\n",
       "      <th>1</th>\n",
       "      <td>-114.47</td>\n",
       "      <td>34.40</td>\n",
       "      <td>19.0</td>\n",
       "      <td>7650.0</td>\n",
       "      <td>1901.0</td>\n",
       "      <td>1129.0</td>\n",
       "      <td>463.0</td>\n",
       "      <td>1.8200</td>\n",
       "      <td>80100.0</td>\n",
       "    </tr>\n",
       "    <tr>\n",
       "      <th>2</th>\n",
       "      <td>-114.56</td>\n",
       "      <td>33.69</td>\n",
       "      <td>17.0</td>\n",
       "      <td>720.0</td>\n",
       "      <td>174.0</td>\n",
       "      <td>333.0</td>\n",
       "      <td>117.0</td>\n",
       "      <td>1.6509</td>\n",
       "      <td>85700.0</td>\n",
       "    </tr>\n",
       "    <tr>\n",
       "      <th>3</th>\n",
       "      <td>-114.57</td>\n",
       "      <td>33.64</td>\n",
       "      <td>14.0</td>\n",
       "      <td>1501.0</td>\n",
       "      <td>337.0</td>\n",
       "      <td>515.0</td>\n",
       "      <td>226.0</td>\n",
       "      <td>3.1917</td>\n",
       "      <td>73400.0</td>\n",
       "    </tr>\n",
       "    <tr>\n",
       "      <th>4</th>\n",
       "      <td>-114.57</td>\n",
       "      <td>33.57</td>\n",
       "      <td>20.0</td>\n",
       "      <td>1454.0</td>\n",
       "      <td>326.0</td>\n",
       "      <td>624.0</td>\n",
       "      <td>262.0</td>\n",
       "      <td>1.9250</td>\n",
       "      <td>65500.0</td>\n",
       "    </tr>\n",
       "  </tbody>\n",
       "</table>\n",
       "</div>"
      ],
      "text/plain": [
       "   longitude  latitude  housing_median_age  total_rooms  total_bedrooms  \\\n",
       "0    -114.31     34.19                15.0       5612.0          1283.0   \n",
       "1    -114.47     34.40                19.0       7650.0          1901.0   \n",
       "2    -114.56     33.69                17.0        720.0           174.0   \n",
       "3    -114.57     33.64                14.0       1501.0           337.0   \n",
       "4    -114.57     33.57                20.0       1454.0           326.0   \n",
       "\n",
       "   population  households  median_income  median_house_value  \n",
       "0      1015.0       472.0         1.4936             66900.0  \n",
       "1      1129.0       463.0         1.8200             80100.0  \n",
       "2       333.0       117.0         1.6509             85700.0  \n",
       "3       515.0       226.0         3.1917             73400.0  \n",
       "4       624.0       262.0         1.9250             65500.0  "
      ]
     },
     "metadata": {},
     "output_type": "display_data"
    },
    {
     "data": {
      "text/html": [
       "<div>\n",
       "<style scoped>\n",
       "    .dataframe tbody tr th:only-of-type {\n",
       "        vertical-align: middle;\n",
       "    }\n",
       "\n",
       "    .dataframe tbody tr th {\n",
       "        vertical-align: top;\n",
       "    }\n",
       "\n",
       "    .dataframe thead th {\n",
       "        text-align: right;\n",
       "    }\n",
       "</style>\n",
       "<table border=\"1\" class=\"dataframe\">\n",
       "  <thead>\n",
       "    <tr style=\"text-align: right;\">\n",
       "      <th></th>\n",
       "      <th>longitude</th>\n",
       "      <th>latitude</th>\n",
       "      <th>housing_median_age</th>\n",
       "      <th>total_rooms</th>\n",
       "      <th>total_bedrooms</th>\n",
       "      <th>population</th>\n",
       "      <th>households</th>\n",
       "      <th>median_income</th>\n",
       "      <th>median_house_value</th>\n",
       "    </tr>\n",
       "  </thead>\n",
       "  <tbody>\n",
       "    <tr>\n",
       "      <th>count</th>\n",
       "      <td>17000.000000</td>\n",
       "      <td>17000.000000</td>\n",
       "      <td>17000.000000</td>\n",
       "      <td>17000.000000</td>\n",
       "      <td>17000.000000</td>\n",
       "      <td>17000.000000</td>\n",
       "      <td>17000.000000</td>\n",
       "      <td>17000.000000</td>\n",
       "      <td>17000.000000</td>\n",
       "    </tr>\n",
       "    <tr>\n",
       "      <th>mean</th>\n",
       "      <td>-119.562108</td>\n",
       "      <td>35.625225</td>\n",
       "      <td>28.589353</td>\n",
       "      <td>2643.664412</td>\n",
       "      <td>539.410824</td>\n",
       "      <td>1429.573941</td>\n",
       "      <td>501.221941</td>\n",
       "      <td>3.883578</td>\n",
       "      <td>207300.912353</td>\n",
       "    </tr>\n",
       "    <tr>\n",
       "      <th>std</th>\n",
       "      <td>2.005166</td>\n",
       "      <td>2.137340</td>\n",
       "      <td>12.586937</td>\n",
       "      <td>2179.947071</td>\n",
       "      <td>421.499452</td>\n",
       "      <td>1147.852959</td>\n",
       "      <td>384.520841</td>\n",
       "      <td>1.908157</td>\n",
       "      <td>115983.764387</td>\n",
       "    </tr>\n",
       "    <tr>\n",
       "      <th>min</th>\n",
       "      <td>-124.350000</td>\n",
       "      <td>32.540000</td>\n",
       "      <td>1.000000</td>\n",
       "      <td>2.000000</td>\n",
       "      <td>1.000000</td>\n",
       "      <td>3.000000</td>\n",
       "      <td>1.000000</td>\n",
       "      <td>0.499900</td>\n",
       "      <td>14999.000000</td>\n",
       "    </tr>\n",
       "    <tr>\n",
       "      <th>25%</th>\n",
       "      <td>-121.790000</td>\n",
       "      <td>33.930000</td>\n",
       "      <td>18.000000</td>\n",
       "      <td>1462.000000</td>\n",
       "      <td>297.000000</td>\n",
       "      <td>790.000000</td>\n",
       "      <td>282.000000</td>\n",
       "      <td>2.566375</td>\n",
       "      <td>119400.000000</td>\n",
       "    </tr>\n",
       "    <tr>\n",
       "      <th>50%</th>\n",
       "      <td>-118.490000</td>\n",
       "      <td>34.250000</td>\n",
       "      <td>29.000000</td>\n",
       "      <td>2127.000000</td>\n",
       "      <td>434.000000</td>\n",
       "      <td>1167.000000</td>\n",
       "      <td>409.000000</td>\n",
       "      <td>3.544600</td>\n",
       "      <td>180400.000000</td>\n",
       "    </tr>\n",
       "    <tr>\n",
       "      <th>75%</th>\n",
       "      <td>-118.000000</td>\n",
       "      <td>37.720000</td>\n",
       "      <td>37.000000</td>\n",
       "      <td>3151.250000</td>\n",
       "      <td>648.250000</td>\n",
       "      <td>1721.000000</td>\n",
       "      <td>605.250000</td>\n",
       "      <td>4.767000</td>\n",
       "      <td>265000.000000</td>\n",
       "    </tr>\n",
       "    <tr>\n",
       "      <th>max</th>\n",
       "      <td>-114.310000</td>\n",
       "      <td>41.950000</td>\n",
       "      <td>52.000000</td>\n",
       "      <td>37937.000000</td>\n",
       "      <td>6445.000000</td>\n",
       "      <td>35682.000000</td>\n",
       "      <td>6082.000000</td>\n",
       "      <td>15.000100</td>\n",
       "      <td>500001.000000</td>\n",
       "    </tr>\n",
       "  </tbody>\n",
       "</table>\n",
       "</div>"
      ],
      "text/plain": [
       "          longitude      latitude  housing_median_age   total_rooms  \\\n",
       "count  17000.000000  17000.000000        17000.000000  17000.000000   \n",
       "mean    -119.562108     35.625225           28.589353   2643.664412   \n",
       "std        2.005166      2.137340           12.586937   2179.947071   \n",
       "min     -124.350000     32.540000            1.000000      2.000000   \n",
       "25%     -121.790000     33.930000           18.000000   1462.000000   \n",
       "50%     -118.490000     34.250000           29.000000   2127.000000   \n",
       "75%     -118.000000     37.720000           37.000000   3151.250000   \n",
       "max     -114.310000     41.950000           52.000000  37937.000000   \n",
       "\n",
       "       total_bedrooms    population    households  median_income  \\\n",
       "count    17000.000000  17000.000000  17000.000000   17000.000000   \n",
       "mean       539.410824   1429.573941    501.221941       3.883578   \n",
       "std        421.499452   1147.852959    384.520841       1.908157   \n",
       "min          1.000000      3.000000      1.000000       0.499900   \n",
       "25%        297.000000    790.000000    282.000000       2.566375   \n",
       "50%        434.000000   1167.000000    409.000000       3.544600   \n",
       "75%        648.250000   1721.000000    605.250000       4.767000   \n",
       "max       6445.000000  35682.000000   6082.000000      15.000100   \n",
       "\n",
       "       median_house_value  \n",
       "count        17000.000000  \n",
       "mean        207300.912353  \n",
       "std         115983.764387  \n",
       "min          14999.000000  \n",
       "25%         119400.000000  \n",
       "50%         180400.000000  \n",
       "75%         265000.000000  \n",
       "max         500001.000000  "
      ]
     },
     "metadata": {},
     "output_type": "display_data"
    },
    {
     "data": {
      "image/png": "[encoded data removed]",
      "text/plain": [
       "<Figure size 640x480 with 1 Axes>"
      ]
     },
     "metadata": {},
     "output_type": "display_data"
    }
   ],
   "source": [
    "import pandas as pd\n",
    "\n",
    "# Load the 1990s California Housing dataset as a Pandas dataframe.\n",
    "# For details, see https://developers.google.com/machine-learning/crash-course/california-housing-data-description.\n",
    "# Note that each example (row) in this dataset describes a neighborhood.\n",
    "ca_housing_df = pd.read_csv('https://download.mlcc.google.com/mledu-datasets/california_housing_train.csv')\n",
    "\n",
    "# Show the first few rows.\n",
    "# The display function is is not standard Python, but is useful in Colab to\n",
    "# print some objects that have their own rendering code (like a dataframe).\n",
    "# You can try replacing display() with print() to see the difference.\n",
    "display(ca_housing_df.head())\n",
    "\n",
    "# Show summary statistics for the data.\n",
    "display(ca_housing_df.describe())\n",
    "\n",
    "# Plot a histogram of the median house values.\n",
    "plt.hist(ca_housing_df['median_house_value'], bins=50)\n",
    "plt.title('CA Housing Data (1990s) Median House Value')\n",
    "plt.show()"
   ]
  },
  {
   "cell_type": "markdown",
   "metadata": {
    "id": "YQR5Op0X8cvG"
   },
   "source": [
    "## TensorFlow and Keras\n",
    "\n",
    "Finally, we'll be using TensorFlow to train ML models. TensorFlow is a large and complex library, including many constantly evolving functions and APIs (Keras is one set of convenient APIs inside TensorFlow). This means you'll want to learn how to use the documentation and the high-level ideas that guide its design.\n",
    "\n",
    "The trickiest thing to understand about TensorFlow is primary way in which it differs from standard programming. In a typical program, each line of code is executed sequentially. In TensorFlow, by contrast, you first define a computation graph. The graph specifies how data flows from input to output. However, no computation actually happens until data is passed into the graph and execution begins.\n",
    "\n",
    "Here's a simple example. Don't worry about understanding the ML details. In a few weeks, you'll understand everything in the code below."
   ]
  },
  {
   "cell_type": "code",
   "execution_count": 7,
   "metadata": {
    "id": "KPoiK0sr_Rj1"
   },
   "outputs": [
    {
     "ename": "NameError",
     "evalue": "name 'ca_housing_df' is not defined",
     "output_type": "error",
     "traceback": [
      "\u001b[31m---------------------------------------------------------------------------\u001b[39m",
      "\u001b[31mNameError\u001b[39m                                 Traceback (most recent call last)",
      "\u001b[36mCell\u001b[39m\u001b[36m \u001b[39m\u001b[32mIn[7]\u001b[39m\u001b[32m, line 9\u001b[39m\n\u001b[32m      5\u001b[39m features = [\u001b[33m'\u001b[39m\u001b[33mhousing_median_age\u001b[39m\u001b[33m'\u001b[39m, \u001b[33m'\u001b[39m\u001b[33mtotal_rooms\u001b[39m\u001b[33m'\u001b[39m, \u001b[33m'\u001b[39m\u001b[33mtotal_bedrooms\u001b[39m\u001b[33m'\u001b[39m,\n\u001b[32m      6\u001b[39m             \u001b[33m'\u001b[39m\u001b[33mpopulation\u001b[39m\u001b[33m'\u001b[39m, \u001b[33m'\u001b[39m\u001b[33mhouseholds\u001b[39m\u001b[33m'\u001b[39m, \u001b[33m'\u001b[39m\u001b[33mmedian_income\u001b[39m\u001b[33m'\u001b[39m]\n\u001b[32m      8\u001b[39m \u001b[38;5;66;03m# Apply log transforms to input features and output values.\u001b[39;00m\n\u001b[32m----> \u001b[39m\u001b[32m9\u001b[39m X = np.log(ca_housing_df[features])\n\u001b[32m     10\u001b[39m Y = np.log(ca_housing_df[\u001b[33m'\u001b[39m\u001b[33mmedian_house_value\u001b[39m\u001b[33m'\u001b[39m])\n\u001b[32m     12\u001b[39m \u001b[38;5;28;01mdef\u001b[39;00m \u001b[34mbuild_model\u001b[39m(num_features):\n",
      "\u001b[31mNameError\u001b[39m: name 'ca_housing_df' is not defined"
     ]
    }
   ],
   "source": [
    "import tensorflow as tf\n",
    "from tensorflow import keras\n",
    "\n",
    "# Column names to use as input features.\n",
    "features = ['housing_median_age', 'total_rooms', 'total_bedrooms',\n",
    "            'population', 'households', 'median_income']\n",
    "\n",
    "# Apply log transforms to input features and output values.\n",
    "X = np.log(ca_housing_df[features])\n",
    "Y = np.log(ca_housing_df['median_house_value'])\n",
    "\n",
    "def build_model(num_features):\n",
    "  \"\"\"Return a simple linear regression model using the Keras Sequential API.\"\"\"\n",
    "  # Clear session and set a random seed for consistent behavior.\n",
    "  tf.keras.backend.clear_session()\n",
    "  tf.random.set_seed(0)\n",
    "\n",
    "  # Use Keras Sequential API to build a linear regression model.\n",
    "  model = keras.Sequential()\n",
    "  model.add(keras.layers.Dense(\n",
    "      input_shape=[num_features], # each input has num_features features\n",
    "      units=1,                    # there is a single output\n",
    "      use_bias=True               # include a learned bias parameter\n",
    "      ))\n",
    "  \n",
    "  # Use mean absolute error as our loss and the Adam optimizer.\n",
    "  model.compile(loss='mae', optimizer='Adam')\n",
    "  return model\n",
    "\n",
    "# Build a model and train it. Hold out 10% of data for validation.\n",
    "model = build_model(num_features=len(features))\n",
    "model.fit(x=X, y=Y,\n",
    "          validation_split=0.1, batch_size=16, epochs=5)\n",
    "\n",
    "# Use the model to predict the training labels.\n",
    "Y_pred = model.predict(x=X).flatten()\n",
    "\n",
    "# Compute training data errors by converting back from the log scale.\n",
    "error = np.exp(Y) - np.exp(Y_pred)\n",
    "mean_error = error.mean()\n",
    "\n",
    "# Plot an error histogram.\n",
    "plt.hist(error, bins=20, range=(-1e6, 1e6), alpha=0.6)\n",
    "\n",
    "# Also show the average error explicitly in the same plot.\n",
    "plt.axvline(mean_error, color='k', linestyle='dashed', linewidth=1)\n",
    "min_ylim, max_ylim = plt.ylim()\n",
    "plt.text(mean_error, max_ylim*0.9, 'Mean: {:.2f}'.format(mean_error))\n",
    "plt.show()"
   ]
  },
  {
   "cell_type": "markdown",
   "metadata": {
    "id": "MviuWVAu-S-T"
   },
   "source": [
    "## Exercise 1: Plot histograms\n",
    "After reading over the code above, plot a [histogram](https://en.wikipedia.org/wiki/Histogram) of the population values in the California Housing dataset, using 100 bins. Also plot a second histogram of the log of the population values."
   ]
  },
  {
   "cell_type": "markdown",
   "metadata": {
    "id": "1RShD7FG-d1E"
   },
   "source": [
    "### Student Solution"
   ]
  },
  {
   "cell_type": "code",
   "execution_count": null,
   "metadata": {
    "id": "Te86PLFF-5JX"
   },
   "outputs": [],
   "source": [
    "# YOUR CODE HERE"
   ]
  },
  {
   "cell_type": "markdown",
   "metadata": {
    "id": "AiFEKgwE-5vj"
   },
   "source": [
    "WRITE YOUR ANSWER HERE"
   ]
  },
  {
   "cell_type": "markdown",
   "metadata": {
    "id": "YN7zJcc1AS4I"
   },
   "source": [
    "### Answer Key"
   ]
  },
  {
   "cell_type": "code",
   "execution_count": null,
   "metadata": {
    "id": "Y1s37HTw_j2E"
   },
   "outputs": [],
   "source": [
    "plt.hist(ca_housing_df['population'], bins=100)\n",
    "plt.show()\n",
    "plt.hist(np.log(ca_housing_df['population']), bins=100)\n",
    "plt.show()"
   ]
  }
 ],
 "metadata": {
  "colab": {
   "authorship_tag": "ABX9TyMVA8wkMfmiS7YXmrgI+HcP",
   "name": "01 Introduction.ipynb",
   "provenance": [],
   "toc_visible": true
  },
  "kernelspec": {
   "display_name": "Python 3 (ipykernel)",
   "language": "python",
   "name": "python3"
  },
  "language_info": {
   "codemirror_mode": {
    "name": "ipython",
    "version": 3
   },
   "file_extension": ".py",
   "mimetype": "text/x-python",
   "name": "python",
   "nbconvert_exporter": "python",
   "pygments_lexer": "ipython3",
   "version": "3.11.4"
  }
 },
 "nbformat": 4,
 "nbformat_minor": 4
}
